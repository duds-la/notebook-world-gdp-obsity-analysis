{
 "cells": [
  {
   "cell_type": "markdown",
   "id": "motivated-olympus",
   "metadata": {},
   "source": [
    "# Projeto final\n",
    "\n",
    "Bem vindo ao projeto final do curso/módulo de Pandas.\n",
    "Neste projeto, você deve responder a um conjunto de perguntas feitas a dois conjuntos de dados:\n",
    "\n",
    "1. [Obesity among adults by country, 1975-2016](https://www.kaggle.com/amanarora/obesity-among-adults-by-country-19752016/)\n",
    "2. [GDP Per Person (1901-2011)](https://www.kaggle.com/divyansh22/gdp-per-person-19012011?select=GDP.csv)\n",
    "\n",
    "Tais conjuntos de dados são públicos foram publicados no Kaggle. Mais instruções sobre cada um deles podem ser encontrados nos links acima. Você também os encontrará na pasta `Datasets`, dentro de nossas apostilas."
   ]
  },
  {
   "cell_type": "code",
   "execution_count": 3,
   "id": "million-survival",
   "metadata": {},
   "outputs": [],
   "source": [
    "import pandas as pd\n",
    "import numpy as np"
   ]
  },
  {
   "cell_type": "markdown",
   "id": "becoming-princeton",
   "metadata": {},
   "source": [
    "## Perguntas - Obesity among adults by country, 1975-2016"
   ]
  },
  {
   "cell_type": "code",
   "execution_count": 3,
   "id": "formal-heater",
   "metadata": {},
   "outputs": [
    {
     "data": {
      "text/html": [
       "<div>\n",
       "<style scoped>\n",
       "    .dataframe tbody tr th:only-of-type {\n",
       "        vertical-align: middle;\n",
       "    }\n",
       "\n",
       "    .dataframe tbody tr th {\n",
       "        vertical-align: top;\n",
       "    }\n",
       "\n",
       "    .dataframe thead th {\n",
       "        text-align: right;\n",
       "    }\n",
       "</style>\n",
       "<table border=\"1\" class=\"dataframe\">\n",
       "  <thead>\n",
       "    <tr style=\"text-align: right;\">\n",
       "      <th></th>\n",
       "      <th>Unnamed: 0</th>\n",
       "      <th>Country</th>\n",
       "      <th>Year</th>\n",
       "      <th>Obesity (%)</th>\n",
       "      <th>Sex</th>\n",
       "    </tr>\n",
       "  </thead>\n",
       "  <tbody>\n",
       "    <tr>\n",
       "      <th>0</th>\n",
       "      <td>0</td>\n",
       "      <td>Afghanistan</td>\n",
       "      <td>1975</td>\n",
       "      <td>0.5 [0.2-1.1]</td>\n",
       "      <td>Both sexes</td>\n",
       "    </tr>\n",
       "    <tr>\n",
       "      <th>1</th>\n",
       "      <td>1</td>\n",
       "      <td>Afghanistan</td>\n",
       "      <td>1975</td>\n",
       "      <td>0.2 [0.0-0.6]</td>\n",
       "      <td>Male</td>\n",
       "    </tr>\n",
       "    <tr>\n",
       "      <th>2</th>\n",
       "      <td>2</td>\n",
       "      <td>Afghanistan</td>\n",
       "      <td>1975</td>\n",
       "      <td>0.8 [0.2-2.0]</td>\n",
       "      <td>Female</td>\n",
       "    </tr>\n",
       "    <tr>\n",
       "      <th>3</th>\n",
       "      <td>3</td>\n",
       "      <td>Afghanistan</td>\n",
       "      <td>1976</td>\n",
       "      <td>0.5 [0.2-1.1]</td>\n",
       "      <td>Both sexes</td>\n",
       "    </tr>\n",
       "    <tr>\n",
       "      <th>4</th>\n",
       "      <td>4</td>\n",
       "      <td>Afghanistan</td>\n",
       "      <td>1976</td>\n",
       "      <td>0.2 [0.0-0.7]</td>\n",
       "      <td>Male</td>\n",
       "    </tr>\n",
       "    <tr>\n",
       "      <th>...</th>\n",
       "      <td>...</td>\n",
       "      <td>...</td>\n",
       "      <td>...</td>\n",
       "      <td>...</td>\n",
       "      <td>...</td>\n",
       "    </tr>\n",
       "    <tr>\n",
       "      <th>24565</th>\n",
       "      <td>24565</td>\n",
       "      <td>Zimbabwe</td>\n",
       "      <td>2015</td>\n",
       "      <td>4.5 [2.4-7.6]</td>\n",
       "      <td>Male</td>\n",
       "    </tr>\n",
       "    <tr>\n",
       "      <th>24566</th>\n",
       "      <td>24566</td>\n",
       "      <td>Zimbabwe</td>\n",
       "      <td>2015</td>\n",
       "      <td>24.8 [18.9-31.3]</td>\n",
       "      <td>Female</td>\n",
       "    </tr>\n",
       "    <tr>\n",
       "      <th>24567</th>\n",
       "      <td>24567</td>\n",
       "      <td>Zimbabwe</td>\n",
       "      <td>2016</td>\n",
       "      <td>15.5 [12.0-19.2]</td>\n",
       "      <td>Both sexes</td>\n",
       "    </tr>\n",
       "    <tr>\n",
       "      <th>24568</th>\n",
       "      <td>24568</td>\n",
       "      <td>Zimbabwe</td>\n",
       "      <td>2016</td>\n",
       "      <td>4.7 [2.5-8.0]</td>\n",
       "      <td>Male</td>\n",
       "    </tr>\n",
       "    <tr>\n",
       "      <th>24569</th>\n",
       "      <td>24569</td>\n",
       "      <td>Zimbabwe</td>\n",
       "      <td>2016</td>\n",
       "      <td>25.3 [19.1-32.0]</td>\n",
       "      <td>Female</td>\n",
       "    </tr>\n",
       "  </tbody>\n",
       "</table>\n",
       "<p>24570 rows × 5 columns</p>\n",
       "</div>"
      ],
      "text/plain": [
       "       Unnamed: 0      Country  Year       Obesity (%)         Sex\n",
       "0               0  Afghanistan  1975     0.5 [0.2-1.1]  Both sexes\n",
       "1               1  Afghanistan  1975     0.2 [0.0-0.6]        Male\n",
       "2               2  Afghanistan  1975     0.8 [0.2-2.0]      Female\n",
       "3               3  Afghanistan  1976     0.5 [0.2-1.1]  Both sexes\n",
       "4               4  Afghanistan  1976     0.2 [0.0-0.7]        Male\n",
       "...           ...          ...   ...               ...         ...\n",
       "24565       24565     Zimbabwe  2015     4.5 [2.4-7.6]        Male\n",
       "24566       24566     Zimbabwe  2015  24.8 [18.9-31.3]      Female\n",
       "24567       24567     Zimbabwe  2016  15.5 [12.0-19.2]  Both sexes\n",
       "24568       24568     Zimbabwe  2016     4.7 [2.5-8.0]        Male\n",
       "24569       24569     Zimbabwe  2016  25.3 [19.1-32.0]      Female\n",
       "\n",
       "[24570 rows x 5 columns]"
      ]
     },
     "execution_count": 3,
     "metadata": {},
     "output_type": "execute_result"
    }
   ],
   "source": [
    "df = pd.read_csv(\"obesity_cleaned.csv\")\n",
    "df"
   ]
  },
  {
   "cell_type": "markdown",
   "id": "divine-rebel",
   "metadata": {},
   "source": [
    "- Limpe os dados do DataFrame, criando uma coluna de nome 'Obesity' que conterá os valores de obesidade. Transforme em float as colunas que porventura foram importadas como string."
   ]
  },
  {
   "cell_type": "code",
   "execution_count": 4,
   "id": "cubic-minneapolis",
   "metadata": {
    "scrolled": true
   },
   "outputs": [],
   "source": [
    "df['Obesity'] = df['Obesity (%)'].apply(lambda x: x.split()[0])"
   ]
  },
  {
   "cell_type": "code",
   "execution_count": 5,
   "id": "c2c08d38-f86d-4f49-923f-d30bd55a26cf",
   "metadata": {},
   "outputs": [],
   "source": [
    "df.loc[df['Obesity'] == 'No', 'Obesity'] = np.nan"
   ]
  },
  {
   "cell_type": "code",
   "execution_count": 6,
   "id": "f5d65421-beaf-402a-baf7-95160d4f6181",
   "metadata": {},
   "outputs": [],
   "source": [
    "df['Obesity'] = df['Obesity'].dropna()"
   ]
  },
  {
   "cell_type": "code",
   "execution_count": 7,
   "id": "566fe4ca-d312-4cce-9f97-a187ee8ea5c7",
   "metadata": {},
   "outputs": [],
   "source": [
    "df['Obesity'] = df['Obesity'].apply(lambda x: float(x))\n",
    "df['Year'] = df['Year'].apply(lambda x: int(x))"
   ]
  },
  {
   "cell_type": "code",
   "execution_count": 8,
   "id": "f24f2e75-3184-4b13-b352-4c1ba5fe46f7",
   "metadata": {},
   "outputs": [
    {
     "data": {
      "text/plain": [
       "0         0.5\n",
       "1         0.2\n",
       "2         0.8\n",
       "3         0.5\n",
       "4         0.2\n",
       "         ... \n",
       "24565     4.5\n",
       "24566    24.8\n",
       "24567    15.5\n",
       "24568     4.7\n",
       "24569    25.3\n",
       "Name: Obesity, Length: 24570, dtype: float64"
      ]
     },
     "execution_count": 8,
     "metadata": {},
     "output_type": "execute_result"
    }
   ],
   "source": [
    "df['Obesity']"
   ]
  },
  {
   "cell_type": "code",
   "execution_count": 12,
   "id": "f324663e-2376-4b72-917e-e4fa10733776",
   "metadata": {},
   "outputs": [],
   "source": [
    "df.set_index('Year', inplace=True)"
   ]
  },
  {
   "cell_type": "markdown",
   "id": "voluntary-temperature",
   "metadata": {},
   "source": [
    "- Qual o percentual médio de obesidade por sexo no mundo no ano de 2015?"
   ]
  },
  {
   "cell_type": "code",
   "execution_count": 14,
   "id": "afraid-reminder",
   "metadata": {
    "scrolled": true
   },
   "outputs": [
    {
     "data": {
      "text/html": [
       "<div>\n",
       "<style scoped>\n",
       "    .dataframe tbody tr th:only-of-type {\n",
       "        vertical-align: middle;\n",
       "    }\n",
       "\n",
       "    .dataframe tbody tr th {\n",
       "        vertical-align: top;\n",
       "    }\n",
       "\n",
       "    .dataframe thead th {\n",
       "        text-align: right;\n",
       "    }\n",
       "</style>\n",
       "<table border=\"1\" class=\"dataframe\">\n",
       "  <thead>\n",
       "    <tr style=\"text-align: right;\">\n",
       "      <th></th>\n",
       "      <th>Unnamed: 0</th>\n",
       "      <th>Country</th>\n",
       "      <th>Obesity (%)</th>\n",
       "      <th>Sex</th>\n",
       "      <th>Obesity</th>\n",
       "    </tr>\n",
       "    <tr>\n",
       "      <th>Year</th>\n",
       "      <th></th>\n",
       "      <th></th>\n",
       "      <th></th>\n",
       "      <th></th>\n",
       "      <th></th>\n",
       "    </tr>\n",
       "  </thead>\n",
       "  <tbody>\n",
       "    <tr>\n",
       "      <th>1975</th>\n",
       "      <td>0</td>\n",
       "      <td>Afghanistan</td>\n",
       "      <td>0.5 [0.2-1.1]</td>\n",
       "      <td>Both sexes</td>\n",
       "      <td>0.5</td>\n",
       "    </tr>\n",
       "    <tr>\n",
       "      <th>1975</th>\n",
       "      <td>1</td>\n",
       "      <td>Afghanistan</td>\n",
       "      <td>0.2 [0.0-0.6]</td>\n",
       "      <td>Male</td>\n",
       "      <td>0.2</td>\n",
       "    </tr>\n",
       "    <tr>\n",
       "      <th>1975</th>\n",
       "      <td>2</td>\n",
       "      <td>Afghanistan</td>\n",
       "      <td>0.8 [0.2-2.0]</td>\n",
       "      <td>Female</td>\n",
       "      <td>0.8</td>\n",
       "    </tr>\n",
       "    <tr>\n",
       "      <th>1976</th>\n",
       "      <td>3</td>\n",
       "      <td>Afghanistan</td>\n",
       "      <td>0.5 [0.2-1.1]</td>\n",
       "      <td>Both sexes</td>\n",
       "      <td>0.5</td>\n",
       "    </tr>\n",
       "    <tr>\n",
       "      <th>1976</th>\n",
       "      <td>4</td>\n",
       "      <td>Afghanistan</td>\n",
       "      <td>0.2 [0.0-0.7]</td>\n",
       "      <td>Male</td>\n",
       "      <td>0.2</td>\n",
       "    </tr>\n",
       "    <tr>\n",
       "      <th>...</th>\n",
       "      <td>...</td>\n",
       "      <td>...</td>\n",
       "      <td>...</td>\n",
       "      <td>...</td>\n",
       "      <td>...</td>\n",
       "    </tr>\n",
       "    <tr>\n",
       "      <th>2015</th>\n",
       "      <td>24565</td>\n",
       "      <td>Zimbabwe</td>\n",
       "      <td>4.5 [2.4-7.6]</td>\n",
       "      <td>Male</td>\n",
       "      <td>4.5</td>\n",
       "    </tr>\n",
       "    <tr>\n",
       "      <th>2015</th>\n",
       "      <td>24566</td>\n",
       "      <td>Zimbabwe</td>\n",
       "      <td>24.8 [18.9-31.3]</td>\n",
       "      <td>Female</td>\n",
       "      <td>24.8</td>\n",
       "    </tr>\n",
       "    <tr>\n",
       "      <th>2016</th>\n",
       "      <td>24567</td>\n",
       "      <td>Zimbabwe</td>\n",
       "      <td>15.5 [12.0-19.2]</td>\n",
       "      <td>Both sexes</td>\n",
       "      <td>15.5</td>\n",
       "    </tr>\n",
       "    <tr>\n",
       "      <th>2016</th>\n",
       "      <td>24568</td>\n",
       "      <td>Zimbabwe</td>\n",
       "      <td>4.7 [2.5-8.0]</td>\n",
       "      <td>Male</td>\n",
       "      <td>4.7</td>\n",
       "    </tr>\n",
       "    <tr>\n",
       "      <th>2016</th>\n",
       "      <td>24569</td>\n",
       "      <td>Zimbabwe</td>\n",
       "      <td>25.3 [19.1-32.0]</td>\n",
       "      <td>Female</td>\n",
       "      <td>25.3</td>\n",
       "    </tr>\n",
       "  </tbody>\n",
       "</table>\n",
       "<p>24570 rows × 5 columns</p>\n",
       "</div>"
      ],
      "text/plain": [
       "      Unnamed: 0      Country       Obesity (%)         Sex  Obesity\n",
       "Year                                                                \n",
       "1975           0  Afghanistan     0.5 [0.2-1.1]  Both sexes      0.5\n",
       "1975           1  Afghanistan     0.2 [0.0-0.6]        Male      0.2\n",
       "1975           2  Afghanistan     0.8 [0.2-2.0]      Female      0.8\n",
       "1976           3  Afghanistan     0.5 [0.2-1.1]  Both sexes      0.5\n",
       "1976           4  Afghanistan     0.2 [0.0-0.7]        Male      0.2\n",
       "...          ...          ...               ...         ...      ...\n",
       "2015       24565     Zimbabwe     4.5 [2.4-7.6]        Male      4.5\n",
       "2015       24566     Zimbabwe  24.8 [18.9-31.3]      Female     24.8\n",
       "2016       24567     Zimbabwe  15.5 [12.0-19.2]  Both sexes     15.5\n",
       "2016       24568     Zimbabwe     4.7 [2.5-8.0]        Male      4.7\n",
       "2016       24569     Zimbabwe  25.3 [19.1-32.0]      Female     25.3\n",
       "\n",
       "[24570 rows x 5 columns]"
      ]
     },
     "execution_count": 14,
     "metadata": {},
     "output_type": "execute_result"
    }
   ],
   "source": [
    "df"
   ]
  },
  {
   "cell_type": "code",
   "execution_count": 9,
   "id": "c929c7bf-10ac-4749-83ea-91a80eb0bc74",
   "metadata": {},
   "outputs": [
    {
     "data": {
      "text/plain": [
       "Sex\n",
       "Female    26.3\n",
       "Name: Obesity, dtype: float64"
      ]
     },
     "execution_count": 9,
     "metadata": {},
     "output_type": "execute_result"
    }
   ],
   "source": [
    "df[df.index == 2015].groupby(\"Sex\")[\"Obesity\"].mean()"
   ]
  },
  {
   "cell_type": "markdown",
   "id": "expected-kruger",
   "metadata": {},
   "source": [
    "- Quais são os 5 países com a maior e a menor taxa de aumento nos índices de obesidade no período observado?"
   ]
  },
  {
   "cell_type": "code",
   "execution_count": 10,
   "id": "phantom-going",
   "metadata": {},
   "outputs": [],
   "source": [
    "df_start = df[df.index == 1975]\n",
    "df_end = df[df.index == 2016]\n"
   ]
  },
  {
   "cell_type": "code",
   "execution_count": 11,
   "id": "6c9e475f-4598-4c89-802e-c7f5cb206149",
   "metadata": {},
   "outputs": [],
   "source": [
    "df_start.set_index(\"Country\", inplace=True)\n",
    "df_end.set_index(\"Country\", inplace=True)"
   ]
  },
  {
   "cell_type": "code",
   "execution_count": 21,
   "id": "a39db555-e62f-4683-a42c-a674d72a1c82",
   "metadata": {},
   "outputs": [],
   "source": [
    "df_ev = df_end[df_end[\"Sex\"] == \"Both sexes\"][\"Obesity\"] - df_start[df_start[\"Sex\"] == \"Both sexes\"][\"Obesity\"]"
   ]
  },
  {
   "cell_type": "code",
   "execution_count": 26,
   "id": "d8c75561-1fa9-4b24-8397-5c2d58e8f808",
   "metadata": {},
   "outputs": [
    {
     "data": {
      "text/plain": [
       "Country\n",
       "Belgium   NaN\n",
       "Name: Obesity, dtype: float64"
      ]
     },
     "execution_count": 26,
     "metadata": {},
     "output_type": "execute_result"
    }
   ],
   "source": [
    "df_ev.sort_values().dropna().head(5)\n",
    "df_ev"
   ]
  },
  {
   "cell_type": "markdown",
   "id": "efficient-buyer",
   "metadata": {},
   "source": [
    "- Quais os países com maiores e menores níveis percetuais de obesidade em 2015?"
   ]
  },
  {
   "cell_type": "code",
   "execution_count": 29,
   "id": "violent-warren",
   "metadata": {},
   "outputs": [
    {
     "data": {
      "text/html": [
       "<div>\n",
       "<style scoped>\n",
       "    .dataframe tbody tr th:only-of-type {\n",
       "        vertical-align: middle;\n",
       "    }\n",
       "\n",
       "    .dataframe tbody tr th {\n",
       "        vertical-align: top;\n",
       "    }\n",
       "\n",
       "    .dataframe thead th {\n",
       "        text-align: right;\n",
       "    }\n",
       "</style>\n",
       "<table border=\"1\" class=\"dataframe\">\n",
       "  <thead>\n",
       "    <tr style=\"text-align: right;\">\n",
       "      <th></th>\n",
       "      <th>Unnamed: 0</th>\n",
       "      <th>Country</th>\n",
       "      <th>Year</th>\n",
       "      <th>Obesity (%)</th>\n",
       "      <th>Sex</th>\n",
       "      <th>Obesity</th>\n",
       "    </tr>\n",
       "  </thead>\n",
       "  <tbody>\n",
       "    <tr>\n",
       "      <th>2015</th>\n",
       "      <td>2015</td>\n",
       "      <td>Belarus</td>\n",
       "      <td>2016</td>\n",
       "      <td>26.3 [18.9-34.2]</td>\n",
       "      <td>Female</td>\n",
       "      <td>26.3</td>\n",
       "    </tr>\n",
       "  </tbody>\n",
       "</table>\n",
       "</div>"
      ],
      "text/plain": [
       "      Unnamed: 0  Country  Year       Obesity (%)     Sex  Obesity\n",
       "2015        2015  Belarus  2016  26.3 [18.9-34.2]  Female     26.3"
      ]
     },
     "execution_count": 29,
     "metadata": {},
     "output_type": "execute_result"
    }
   ],
   "source": [
    "df_2015 = df[df.index == 2015]\n",
    "df_2015[df_2015[\"Obesity\"] == df_2015[\"Obesity\"].max()]"
   ]
  },
  {
   "cell_type": "markdown",
   "id": "average-holiday",
   "metadata": {},
   "source": [
    "- Qual a diferença média percentual de obesidade entre sexos ao longo dos anos para o Brasil?"
   ]
  },
  {
   "cell_type": "code",
   "execution_count": 35,
   "id": "later-occurrence",
   "metadata": {},
   "outputs": [],
   "source": [
    "df_brazil = df[df[\"Country\"] == \"Brazil\"]"
   ]
  },
  {
   "cell_type": "code",
   "execution_count": 43,
   "id": "f75954b8-bc54-486f-99fa-168f61fbe410",
   "metadata": {},
   "outputs": [
    {
     "data": {
      "text/plain": [
       "<Axes: >"
      ]
     },
     "execution_count": 43,
     "metadata": {},
     "output_type": "execute_result"
    },
    {
     "data": {
      "image/png": "[encoded data removed]",
      "text/plain": [
       "<Figure size 640x480 with 1 Axes>"
      ]
     },
     "metadata": {},
     "output_type": "display_data"
    }
   ],
   "source": [
    "(df_brazil[df_brazil[\"Sex\"] == \"Male\"][\"Obesity\"]).plot()\n"
   ]
  },
  {
   "cell_type": "markdown",
   "id": "rising-exhaust",
   "metadata": {},
   "source": [
    "- Você conseguiria plotar um gráfico mostrando a evolução da obesidade para ambos sexos no mundo?"
   ]
  },
  {
   "cell_type": "code",
   "execution_count": null,
   "id": "senior-recruitment",
   "metadata": {},
   "outputs": [],
   "source": [
    "df_both.plot()"
   ]
  },
  {
   "cell_type": "markdown",
   "id": "labeled-rainbow",
   "metadata": {},
   "source": [
    "## Perguntas - GDP Per Person (1901-2011)"
   ]
  },
  {
   "cell_type": "code",
   "execution_count": 4,
   "id": "thermal-breeding",
   "metadata": {},
   "outputs": [],
   "source": [
    "df_gdp = pd.read_csv(\"GDP.csv\")"
   ]
  },
  {
   "cell_type": "markdown",
   "id": "suffering-guitar",
   "metadata": {},
   "source": [
    "- Limpe o conjunto de dados, convertendo strings em datas ou float, quando necessário."
   ]
  },
  {
   "cell_type": "code",
   "execution_count": 5,
   "id": "fundamental-occasions",
   "metadata": {},
   "outputs": [
    {
     "data": {
      "text/html": [
       "<div>\n",
       "<style scoped>\n",
       "    .dataframe tbody tr th:only-of-type {\n",
       "        vertical-align: middle;\n",
       "    }\n",
       "\n",
       "    .dataframe tbody tr th {\n",
       "        vertical-align: top;\n",
       "    }\n",
       "\n",
       "    .dataframe thead th {\n",
       "        text-align: right;\n",
       "    }\n",
       "</style>\n",
       "<table border=\"1\" class=\"dataframe\">\n",
       "  <thead>\n",
       "    <tr style=\"text-align: right;\">\n",
       "      <th></th>\n",
       "      <th>Country</th>\n",
       "      <th>Region</th>\n",
       "      <th>Year</th>\n",
       "      <th>GDP_pp</th>\n",
       "    </tr>\n",
       "  </thead>\n",
       "  <tbody>\n",
       "    <tr>\n",
       "      <th>0</th>\n",
       "      <td>Afghanistan</td>\n",
       "      <td>Middle East, North Africa, and Greater Arabia</td>\n",
       "      <td>1/1/1901</td>\n",
       "      <td>613.99</td>\n",
       "    </tr>\n",
       "    <tr>\n",
       "      <th>1</th>\n",
       "      <td>Afghanistan</td>\n",
       "      <td>Middle East, North Africa, and Greater Arabia</td>\n",
       "      <td>1/1/1906</td>\n",
       "      <td>624.04</td>\n",
       "    </tr>\n",
       "    <tr>\n",
       "      <th>2</th>\n",
       "      <td>Afghanistan</td>\n",
       "      <td>Middle East, North Africa, and Greater Arabia</td>\n",
       "      <td>1/1/1911</td>\n",
       "      <td>634.25</td>\n",
       "    </tr>\n",
       "    <tr>\n",
       "      <th>3</th>\n",
       "      <td>Afghanistan</td>\n",
       "      <td>Middle East, North Africa, and Greater Arabia</td>\n",
       "      <td>1/1/1916</td>\n",
       "      <td>647.28</td>\n",
       "    </tr>\n",
       "    <tr>\n",
       "      <th>4</th>\n",
       "      <td>Afghanistan</td>\n",
       "      <td>Middle East, North Africa, and Greater Arabia</td>\n",
       "      <td>1/1/1921</td>\n",
       "      <td>662.40</td>\n",
       "    </tr>\n",
       "    <tr>\n",
       "      <th>...</th>\n",
       "      <td>...</td>\n",
       "      <td>...</td>\n",
       "      <td>...</td>\n",
       "      <td>...</td>\n",
       "    </tr>\n",
       "    <tr>\n",
       "      <th>4414</th>\n",
       "      <td>Zimbabwe</td>\n",
       "      <td>Sub-Saharan Africa</td>\n",
       "      <td>1/1/1991</td>\n",
       "      <td>782.09</td>\n",
       "    </tr>\n",
       "    <tr>\n",
       "      <th>4415</th>\n",
       "      <td>Zimbabwe</td>\n",
       "      <td>Sub-Saharan Africa</td>\n",
       "      <td>1/1/1996</td>\n",
       "      <td>781.50</td>\n",
       "    </tr>\n",
       "    <tr>\n",
       "      <th>4416</th>\n",
       "      <td>Zimbabwe</td>\n",
       "      <td>Sub-Saharan Africa</td>\n",
       "      <td>1/1/2001</td>\n",
       "      <td>719.96</td>\n",
       "    </tr>\n",
       "    <tr>\n",
       "      <th>4417</th>\n",
       "      <td>Zimbabwe</td>\n",
       "      <td>Sub-Saharan Africa</td>\n",
       "      <td>1/1/2006</td>\n",
       "      <td>520.17</td>\n",
       "    </tr>\n",
       "    <tr>\n",
       "      <th>4418</th>\n",
       "      <td>Zimbabwe</td>\n",
       "      <td>Sub-Saharan Africa</td>\n",
       "      <td>1/1/2011</td>\n",
       "      <td>526.33</td>\n",
       "    </tr>\n",
       "  </tbody>\n",
       "</table>\n",
       "<p>4419 rows × 4 columns</p>\n",
       "</div>"
      ],
      "text/plain": [
       "          Country                                         Region      Year  \\\n",
       "0     Afghanistan  Middle East, North Africa, and Greater Arabia  1/1/1901   \n",
       "1     Afghanistan  Middle East, North Africa, and Greater Arabia  1/1/1906   \n",
       "2     Afghanistan  Middle East, North Africa, and Greater Arabia  1/1/1911   \n",
       "3     Afghanistan  Middle East, North Africa, and Greater Arabia  1/1/1916   \n",
       "4     Afghanistan  Middle East, North Africa, and Greater Arabia  1/1/1921   \n",
       "...           ...                                            ...       ...   \n",
       "4414     Zimbabwe                             Sub-Saharan Africa  1/1/1991   \n",
       "4415     Zimbabwe                             Sub-Saharan Africa  1/1/1996   \n",
       "4416     Zimbabwe                             Sub-Saharan Africa  1/1/2001   \n",
       "4417     Zimbabwe                             Sub-Saharan Africa  1/1/2006   \n",
       "4418     Zimbabwe                             Sub-Saharan Africa  1/1/2011   \n",
       "\n",
       "       GDP_pp   \n",
       "0      613.99   \n",
       "1      624.04   \n",
       "2      634.25   \n",
       "3      647.28   \n",
       "4      662.40   \n",
       "...        ...  \n",
       "4414   782.09   \n",
       "4415   781.50   \n",
       "4416   719.96   \n",
       "4417   520.17   \n",
       "4418   526.33   \n",
       "\n",
       "[4419 rows x 4 columns]"
      ]
     },
     "execution_count": 5,
     "metadata": {},
     "output_type": "execute_result"
    }
   ],
   "source": [
    "df_gdp"
   ]
  },
  {
   "cell_type": "code",
   "execution_count": 6,
   "id": "f0b36283-b9d1-44c1-b620-38976b8c1bca",
   "metadata": {},
   "outputs": [],
   "source": [
    "df_gdp[\"Year\"] = df_gdp[\"Year\"].apply(lambda x: int(x.split(\"/\")[-1]))"
   ]
  },
  {
   "cell_type": "code",
   "execution_count": 7,
   "id": "d9cdae57-d1ba-469e-bf5f-515ac4b71748",
   "metadata": {},
   "outputs": [],
   "source": [
    "df_gdp[\"gdp_pp\"] = df_gdp[\" GDP_pp \"].apply(lambda x: float(x.split(\" \")[1].replace(\",\", \"\")))\n",
    "del df_gdp[\" GDP_pp \"]"
   ]
  },
  {
   "cell_type": "code",
   "execution_count": 8,
   "id": "18752f30-62d3-4f48-a9d6-8dd0003ae3a2",
   "metadata": {},
   "outputs": [
    {
     "data": {
      "text/html": [
       "<div>\n",
       "<style scoped>\n",
       "    .dataframe tbody tr th:only-of-type {\n",
       "        vertical-align: middle;\n",
       "    }\n",
       "\n",
       "    .dataframe tbody tr th {\n",
       "        vertical-align: top;\n",
       "    }\n",
       "\n",
       "    .dataframe thead th {\n",
       "        text-align: right;\n",
       "    }\n",
       "</style>\n",
       "<table border=\"1\" class=\"dataframe\">\n",
       "  <thead>\n",
       "    <tr style=\"text-align: right;\">\n",
       "      <th></th>\n",
       "      <th>Country</th>\n",
       "      <th>Region</th>\n",
       "      <th>Year</th>\n",
       "      <th>gdp_pp</th>\n",
       "    </tr>\n",
       "  </thead>\n",
       "  <tbody>\n",
       "    <tr>\n",
       "      <th>0</th>\n",
       "      <td>Afghanistan</td>\n",
       "      <td>Middle East, North Africa, and Greater Arabia</td>\n",
       "      <td>1901</td>\n",
       "      <td>613.99</td>\n",
       "    </tr>\n",
       "    <tr>\n",
       "      <th>1</th>\n",
       "      <td>Afghanistan</td>\n",
       "      <td>Middle East, North Africa, and Greater Arabia</td>\n",
       "      <td>1906</td>\n",
       "      <td>624.04</td>\n",
       "    </tr>\n",
       "    <tr>\n",
       "      <th>2</th>\n",
       "      <td>Afghanistan</td>\n",
       "      <td>Middle East, North Africa, and Greater Arabia</td>\n",
       "      <td>1911</td>\n",
       "      <td>634.25</td>\n",
       "    </tr>\n",
       "  </tbody>\n",
       "</table>\n",
       "</div>"
      ],
      "text/plain": [
       "       Country                                         Region  Year  gdp_pp\n",
       "0  Afghanistan  Middle East, North Africa, and Greater Arabia  1901  613.99\n",
       "1  Afghanistan  Middle East, North Africa, and Greater Arabia  1906  624.04\n",
       "2  Afghanistan  Middle East, North Africa, and Greater Arabia  1911  634.25"
      ]
     },
     "execution_count": 8,
     "metadata": {},
     "output_type": "execute_result"
    }
   ],
   "source": [
    "df_gdp.head(3)"
   ]
  },
  {
   "cell_type": "markdown",
   "id": "studied-validity",
   "metadata": {},
   "source": [
    "- Você conseguiria informar o primeiro valor registrado de cada país?"
   ]
  },
  {
   "cell_type": "code",
   "execution_count": 9,
   "id": "frequent-rental",
   "metadata": {},
   "outputs": [
    {
     "data": {
      "text/plain": [
       "Country\n",
       "Afghanistan    1901\n",
       "Albania        1901\n",
       "Algeria        1901\n",
       "Andorra        1901\n",
       "Angola         1901\n",
       "               ... \n",
       "Venezuela      1901\n",
       "Vietnam        1901\n",
       "Yemen, Rep.    1901\n",
       "Zambia         1901\n",
       "Zimbabwe       1901\n",
       "Name: Year, Length: 193, dtype: int64"
      ]
     },
     "execution_count": 9,
     "metadata": {},
     "output_type": "execute_result"
    }
   ],
   "source": [
    "df_gdp.groupby(\"Country\").min()[\"Year\"]"
   ]
  },
  {
   "cell_type": "markdown",
   "id": "tutorial-softball",
   "metadata": {},
   "source": [
    "- Informe as regiões com maiores crescimentos de PIB per capita no século passado."
   ]
  },
  {
   "cell_type": "code",
   "execution_count": 10,
   "id": "given-colorado",
   "metadata": {},
   "outputs": [
    {
     "data": {
      "text/plain": [
       "np.int64(1996)"
      ]
     },
     "execution_count": 10,
     "metadata": {},
     "output_type": "execute_result"
    }
   ],
   "source": [
    "df_gdp[df_gdp[\"Year\"] < 2000][\"Year\"].max()"
   ]
  },
  {
   "cell_type": "code",
   "execution_count": 11,
   "id": "1c3d0f57-3446-49c3-9f25-aa1db90defc4",
   "metadata": {},
   "outputs": [],
   "source": [
    "df_gdp_start = df_gdp[(df_gdp[\"Year\"] == 1901)]\n",
    "df_gdp_end = df_gdp[(df_gdp[\"Year\"] == 1996)]"
   ]
  },
  {
   "cell_type": "code",
   "execution_count": 12,
   "id": "5b8d0ae6-c6b2-42aa-a2a0-d7f7aaf44ec9",
   "metadata": {},
   "outputs": [
    {
     "data": {
      "text/plain": [
       "Region\n",
       "Middle East, North Africa, and Greater Arabia    857.215950\n",
       "Asia                                             711.761516\n",
       "Europe                                           594.046167\n",
       "North America                                    589.760175\n",
       "Central America and the Caribbean                406.426789\n",
       "Australia and Oceania                            396.075383\n",
       "South America                                    312.123735\n",
       "Sub-Saharan Africa                               248.633780\n",
       "Name: gdp_pp, dtype: float64"
      ]
     },
     "execution_count": 12,
     "metadata": {},
     "output_type": "execute_result"
    }
   ],
   "source": [
    "((df_gdp_end.groupby(\"Region\")[\"gdp_pp\"].mean() / df_gdp_start.groupby(\"Region\")[\"gdp_pp\"].mean() - 1) * 100).sort_values(ascending=False)"
   ]
  },
  {
   "cell_type": "markdown",
   "id": "textile-afternoon",
   "metadata": {},
   "source": [
    "- Preecha os anos ausentes em cada país com uma estimativa, baseada na diferença entre o próximo registro e o anterior."
   ]
  },
  {
   "cell_type": "code",
   "execution_count": 1,
   "id": "hydraulic-confidentiality",
   "metadata": {},
   "outputs": [
    {
     "ename": "NameError",
     "evalue": "name 'df_gdp' is not defined",
     "output_type": "error",
     "traceback": [
      "\u001b[1;31m---------------------------------------------------------------------------\u001b[0m",
      "\u001b[1;31mNameError\u001b[0m                                 Traceback (most recent call last)",
      "Cell \u001b[1;32mIn[1], line 1\u001b[0m\n\u001b[1;32m----> 1\u001b[0m \u001b[43mdf_gdp\u001b[49m\u001b[38;5;241m.\u001b[39mhead()\n",
      "\u001b[1;31mNameError\u001b[0m: name 'df_gdp' is not defined"
     ]
    }
   ],
   "source": [
    "df_gdp.head()"
   ]
  },
  {
   "cell_type": "code",
   "execution_count": null,
   "id": "2c77d9c1-c1ae-40c4-812f-42a037f81be8",
   "metadata": {},
   "outputs": [],
   "source": [
    "arr_years = np.arange(df_gdp[\"Year\"].min(), df_gdp[\"Year\"].max())\n",
    "df_all_years = pd.DataFrame(arr_years, columns=[\"Year\"])\n",
    "df_all_years.index = df_all_years[\"Year\"]\n",
    "\n",
    "df_years_off = ~df_all_years[\"Year\"].isin(df_gdp[\"Year\"])\n",
    "df_years_off = df_years_off[df_years_off].index"
   ]
  },
  {
   "cell_type": "code",
   "execution_count": null,
   "id": "310feec1-d6ec-4b52-b0b9-d784ce94b477",
   "metadata": {},
   "outputs": [],
   "source": [
    "df_gdp = df_gdp.sort_values([\"Country\", \"Year\"])\n",
    "\n",
    "df_gdp[\"delta_gdp\"] = df_gdp[\"gdp_pp\"] - df_gdp[\"gdp_pp\"].shift(1)\n",
    "df_gdp[\"delta_year\"] = df_gdp[\"Year\"] - df_gdp[\"Year\"].shift(1)\n",
    "df_gdp[\"gdp_year\"] = (df_gdp[\"delta_gdp\"] / df_gdp[\"delta_year\"]).shift(-1)"
   ]
  },
  {
   "cell_type": "code",
   "execution_count": null,
   "id": "73cb5bf6-7b91-41ab-8cf0-ef8fb5af60c3",
   "metadata": {},
   "outputs": [],
   "source": [
    "df_gdp[\"next_year\"] = df_gdp[\"Year\"].shift(-1)\n",
    "del df_gdp[\"delta_gdp\"], df_gdp[\"delta_year\"]"
   ]
  },
  {
   "cell_type": "code",
   "execution_count": null,
   "id": "8ece2b7d-f51c-45f7-b4fc-12f4b5ca5e7c",
   "metadata": {},
   "outputs": [],
   "source": [
    "df_new_data = pd.DataFrame()\n",
    "\n",
    "for idx, row in df_gdp.iterrows():\n",
    "    if row[\"Year\"] == 2011:\n",
    "        continue\n",
    "    \n",
    "    # print(idx, row)\n",
    "    year_to_add = df_years_off[(df_years_off < row[\"next_year\"]) & (df_years_off >row[\"Year\"])]\n",
    "    \n",
    "    for new_year in year_to_add:\n",
    "        add_row = row.copy()\n",
    "        add_row[\"gdp_pp\"] = (new_year - add_row[\"Year\"]) * add_row[\"gdp_year\"] + add_row[\"gdp_pp\"]\n",
    "        add_row[\"Year\"] = new_year\n",
    "        df_new_data[\"kind\"] = \"estimated\"\n",
    "        df_new_data = pd.concat([df_new_data, add_row.to_frame().transpose()])"
   ]
  },
  {
   "cell_type": "code",
   "execution_count": null,
   "id": "0d9ceaca-98db-4ecb-8a45-46c5a5b601b4",
   "metadata": {},
   "outputs": [],
   "source": [
    "df_gdp.iloc[100:].head(10)"
   ]
  },
  {
   "cell_type": "markdown",
   "id": "revised-helicopter",
   "metadata": {},
   "source": [
    "### DESAFIOS\n",
    "- Você conseguiria criar um mapa do gdp ou da obesidade no mundo ao longo dos anos?"
   ]
  },
  {
   "cell_type": "code",
   "execution_count": null,
   "id": "advised-sample",
   "metadata": {},
   "outputs": [],
   "source": []
  },
  {
   "cell_type": "markdown",
   "id": "lesbian-flight",
   "metadata": {},
   "source": [
    "- Há uma relação entre níveis de obesidade e gdp per capita?"
   ]
  },
  {
   "cell_type": "code",
   "execution_count": null,
   "id": "fluid-enemy",
   "metadata": {},
   "outputs": [],
   "source": []
  }
 ],
 "metadata": {
  "kernelspec": {
   "display_name": "Python 3 (ipykernel)",
   "language": "python",
   "name": "python3"
  },
  "language_info": {
   "codemirror_mode": {
    "name": "ipython",
    "version": 3
   },
   "file_extension": ".py",
   "mimetype": "text/x-python",
   "name": "python",
   "nbconvert_exporter": "python",
   "pygments_lexer": "ipython3",
   "version": "3.12.4"
  }
 },
 "nbformat": 4,
 "nbformat_minor": 5
}
